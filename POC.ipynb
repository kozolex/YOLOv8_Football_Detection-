{
 "cells": [
  {
   "cell_type": "markdown",
   "metadata": {},
   "source": [
    "Yolo v8 za pomocą: <br>\n",
    "Cele:\n",
    "1. Konfiguracja środowiska (moduł )\n",
    "2. "
   ]
  },
  {
   "cell_type": "code",
   "execution_count": 1,
   "metadata": {},
   "outputs": [
    {
     "name": "stdout",
     "output_type": "stream",
     "text": [
      "\n",
      "                   from  n    params  module                                       arguments                     \n",
      "  0                  -1  1       464  ultralytics.nn.modules.conv.Conv             [3, 16, 3, 2]                 \n",
      "  1                  -1  1      4672  ultralytics.nn.modules.conv.Conv             [16, 32, 3, 2]                \n",
      "  2                  -1  1      7360  ultralytics.nn.modules.block.C2f             [32, 32, 1, True]             \n",
      "  3                  -1  1     18560  ultralytics.nn.modules.conv.Conv             [32, 64, 3, 2]                \n",
      "  4                  -1  2     49664  ultralytics.nn.modules.block.C2f             [64, 64, 2, True]             \n",
      "  5                  -1  1     73984  ultralytics.nn.modules.conv.Conv             [64, 128, 3, 2]               \n",
      "  6                  -1  2    197632  ultralytics.nn.modules.block.C2f             [128, 128, 2, True]           \n",
      "  7                  -1  1    295424  ultralytics.nn.modules.conv.Conv             [128, 256, 3, 2]              \n",
      "  8                  -1  1    460288  ultralytics.nn.modules.block.C2f             [256, 256, 1, True]           \n",
      "  9                  -1  1    164608  ultralytics.nn.modules.block.SPPF            [256, 256, 5]                 \n",
      " 10                  -1  1         0  torch.nn.modules.upsampling.Upsample         [None, 2, 'nearest']          \n",
      " 11             [-1, 6]  1         0  ultralytics.nn.modules.conv.Concat           [1]                           \n",
      " 12                  -1  1    148224  ultralytics.nn.modules.block.C2f             [384, 128, 1]                 \n",
      " 13                  -1  1         0  torch.nn.modules.upsampling.Upsample         [None, 2, 'nearest']          \n",
      " 14             [-1, 4]  1         0  ultralytics.nn.modules.conv.Concat           [1]                           \n",
      " 15                  -1  1     37248  ultralytics.nn.modules.block.C2f             [192, 64, 1]                  \n",
      " 16                  -1  1     36992  ultralytics.nn.modules.conv.Conv             [64, 64, 3, 2]                \n",
      " 17            [-1, 12]  1         0  ultralytics.nn.modules.conv.Concat           [1]                           \n",
      " 18                  -1  1    123648  ultralytics.nn.modules.block.C2f             [192, 128, 1]                 \n",
      " 19                  -1  1    147712  ultralytics.nn.modules.conv.Conv             [128, 128, 3, 2]              \n",
      " 20             [-1, 9]  1         0  ultralytics.nn.modules.conv.Concat           [1]                           \n",
      " 21                  -1  1    493056  ultralytics.nn.modules.block.C2f             [384, 256, 1]                 \n",
      " 22        [15, 18, 21]  1    897664  ultralytics.nn.modules.head.Detect           [80, [64, 128, 256]]          \n",
      "YOLOv8n summary: 225 layers, 3157200 parameters, 3157184 gradients, 8.9 GFLOPs\n",
      "\n",
      "Downloading https://github.com/ultralytics/assets/releases/download/v0.0.0/yolov8n.pt to 'yolov8n.pt'...\n"
     ]
    },
    {
     "name": "stderr",
     "output_type": "stream",
     "text": [
      "100%|██████████| 6.23M/6.23M [00:04<00:00, 1.43MB/s]\n"
     ]
    },
    {
     "name": "stdout",
     "output_type": "stream",
     "text": [
      "Ultralytics YOLOv8.0.227 🚀 Python-3.10.13 torch-2.1.2+cpu CPU (Intel Core(TM) i7-9700 3.00GHz)\n",
      "\u001b[34m\u001b[1mengine\\trainer: \u001b[0mtask=detect, mode=train, model=yolov8n.pt, data=coco128.yaml, epochs=3, patience=50, batch=16, imgsz=640, save=True, save_period=-1, cache=False, device=None, workers=8, project=None, name=train, exist_ok=False, pretrained=True, optimizer=auto, verbose=True, seed=0, deterministic=True, single_cls=False, rect=False, cos_lr=False, close_mosaic=10, resume=False, amp=True, fraction=1.0, profile=False, freeze=None, overlap_mask=True, mask_ratio=4, dropout=0.0, val=True, split=val, save_json=False, save_hybrid=False, conf=None, iou=0.7, max_det=300, half=False, dnn=False, plots=True, source=None, vid_stride=1, stream_buffer=False, visualize=False, augment=False, agnostic_nms=False, classes=None, retina_masks=False, show=False, save_frames=False, save_txt=False, save_conf=False, save_crop=False, show_labels=True, show_conf=True, show_boxes=True, line_width=None, format=torchscript, keras=False, optimize=False, int8=False, dynamic=False, simplify=False, opset=None, workspace=4, nms=False, lr0=0.01, lrf=0.01, momentum=0.937, weight_decay=0.0005, warmup_epochs=3.0, warmup_momentum=0.8, warmup_bias_lr=0.1, box=7.5, cls=0.5, dfl=1.5, pose=12.0, kobj=1.0, label_smoothing=0.0, nbs=64, hsv_h=0.015, hsv_s=0.7, hsv_v=0.4, degrees=0.0, translate=0.1, scale=0.5, shear=0.0, perspective=0.0, flipud=0.0, fliplr=0.5, mosaic=1.0, mixup=0.0, copy_paste=0.0, cfg=None, tracker=botsort.yaml, save_dir=runs\\detect\\train\n",
      "\n",
      "Dataset 'coco128.yaml' images not found ⚠️, missing path 'C:\\Users\\mk\\github\\YOLOv8_Football_Detection-\\datasets\\coco128\\images\\train2017'\n",
      "Downloading https://ultralytics.com/assets/coco128.zip to 'C:\\Users\\mk\\github\\YOLOv8_Football_Detection-\\datasets\\coco128.zip'...\n"
     ]
    },
    {
     "name": "stderr",
     "output_type": "stream",
     "text": [
      "100%|██████████| 6.66M/6.66M [00:01<00:00, 5.81MB/s]\n",
      "Unzipping C:\\Users\\mk\\github\\YOLOv8_Football_Detection-\\datasets\\coco128.zip to C:\\Users\\mk\\github\\YOLOv8_Football_Detection-\\datasets\\coco128...: 100%|██████████| 263/263 [00:00<00:00, 1947.90file/s]"
     ]
    },
    {
     "name": "stdout",
     "output_type": "stream",
     "text": [
      "Dataset download success ✅ (4.7s), saved to \u001b[1mC:\\Users\\mk\\github\\YOLOv8_Football_Detection-\\datasets\u001b[0m\n",
      "\n"
     ]
    },
    {
     "name": "stderr",
     "output_type": "stream",
     "text": [
      "\n"
     ]
    },
    {
     "name": "stdout",
     "output_type": "stream",
     "text": [
      "Downloading https://ultralytics.com/assets/Arial.ttf to 'C:\\Users\\mk\\AppData\\Roaming\\Ultralytics\\Arial.ttf'...\n"
     ]
    },
    {
     "name": "stderr",
     "output_type": "stream",
     "text": [
      "100%|██████████| 755k/755k [00:00<00:00, 1.40MB/s]"
     ]
    },
    {
     "name": "stdout",
     "output_type": "stream",
     "text": [
      "\n",
      "                   from  n    params  module                                       arguments                     \n",
      "  0                  -1  1       464  ultralytics.nn.modules.conv.Conv             [3, 16, 3, 2]                 \n",
      "  1                  -1  1      4672  ultralytics.nn.modules.conv.Conv             [16, 32, 3, 2]                \n",
      "  2                  -1  1      7360  ultralytics.nn.modules.block.C2f             [32, 32, 1, True]             \n",
      "  3                  -1  1     18560  ultralytics.nn.modules.conv.Conv             [32, 64, 3, 2]                \n",
      "  4                  -1  2     49664  ultralytics.nn.modules.block.C2f             [64, 64, 2, True]             \n"
     ]
    },
    {
     "name": "stderr",
     "output_type": "stream",
     "text": [
      "\n"
     ]
    },
    {
     "name": "stdout",
     "output_type": "stream",
     "text": [
      "  5                  -1  1     73984  ultralytics.nn.modules.conv.Conv             [64, 128, 3, 2]               \n",
      "  6                  -1  2    197632  ultralytics.nn.modules.block.C2f             [128, 128, 2, True]           \n",
      "  7                  -1  1    295424  ultralytics.nn.modules.conv.Conv             [128, 256, 3, 2]              \n",
      "  8                  -1  1    460288  ultralytics.nn.modules.block.C2f             [256, 256, 1, True]           \n",
      "  9                  -1  1    164608  ultralytics.nn.modules.block.SPPF            [256, 256, 5]                 \n",
      " 10                  -1  1         0  torch.nn.modules.upsampling.Upsample         [None, 2, 'nearest']          \n",
      " 11             [-1, 6]  1         0  ultralytics.nn.modules.conv.Concat           [1]                           \n",
      " 12                  -1  1    148224  ultralytics.nn.modules.block.C2f             [384, 128, 1]                 \n",
      " 13                  -1  1         0  torch.nn.modules.upsampling.Upsample         [None, 2, 'nearest']          \n",
      " 14             [-1, 4]  1         0  ultralytics.nn.modules.conv.Concat           [1]                           \n",
      " 15                  -1  1     37248  ultralytics.nn.modules.block.C2f             [192, 64, 1]                  \n",
      " 16                  -1  1     36992  ultralytics.nn.modules.conv.Conv             [64, 64, 3, 2]                \n",
      " 17            [-1, 12]  1         0  ultralytics.nn.modules.conv.Concat           [1]                           \n",
      " 18                  -1  1    123648  ultralytics.nn.modules.block.C2f             [192, 128, 1]                 \n",
      " 19                  -1  1    147712  ultralytics.nn.modules.conv.Conv             [128, 128, 3, 2]              \n",
      " 20             [-1, 9]  1         0  ultralytics.nn.modules.conv.Concat           [1]                           \n",
      " 21                  -1  1    493056  ultralytics.nn.modules.block.C2f             [384, 256, 1]                 \n",
      " 22        [15, 18, 21]  1    897664  ultralytics.nn.modules.head.Detect           [80, [64, 128, 256]]          \n",
      "Model summary: 225 layers, 3157200 parameters, 3157184 gradients, 8.9 GFLOPs\n",
      "\n",
      "Transferred 355/355 items from pretrained weights\n",
      "Freezing layer 'model.22.dfl.conv.weight'\n"
     ]
    },
    {
     "name": "stderr",
     "output_type": "stream",
     "text": [
      "\u001b[34m\u001b[1mtrain: \u001b[0mScanning C:\\Users\\mk\\github\\YOLOv8_Football_Detection-\\datasets\\coco128\\labels\\train2017... 126 images, 2 backgrounds, 0 corrupt: 100%|██████████| 128/128 [00:00<00:00, 1761.03it/s]"
     ]
    },
    {
     "name": "stdout",
     "output_type": "stream",
     "text": [
      "\u001b[34m\u001b[1mtrain: \u001b[0mNew cache created: C:\\Users\\mk\\github\\YOLOv8_Football_Detection-\\datasets\\coco128\\labels\\train2017.cache\n"
     ]
    },
    {
     "name": "stderr",
     "output_type": "stream",
     "text": [
      "\n",
      "\u001b[34m\u001b[1mval: \u001b[0mScanning C:\\Users\\mk\\github\\YOLOv8_Football_Detection-\\datasets\\coco128\\labels\\train2017.cache... 126 images, 2 backgrounds, 0 corrupt: 100%|██████████| 128/128 [00:00<?, ?it/s]\n"
     ]
    },
    {
     "name": "stdout",
     "output_type": "stream",
     "text": [
      "Plotting labels to runs\\detect\\train\\labels.jpg... \n",
      "\u001b[34m\u001b[1moptimizer:\u001b[0m 'optimizer=auto' found, ignoring 'lr0=0.01' and 'momentum=0.937' and determining best 'optimizer', 'lr0' and 'momentum' automatically... \n",
      "\u001b[34m\u001b[1moptimizer:\u001b[0m AdamW(lr=0.000119, momentum=0.9) with parameter groups 57 weight(decay=0.0), 64 weight(decay=0.0005), 63 bias(decay=0.0)\n",
      "Image sizes 640 train, 640 val\n",
      "Using 0 dataloader workers\n",
      "Logging results to \u001b[1mruns\\detect\\train\u001b[0m\n",
      "Starting training for 3 epochs...\n",
      "\n",
      "      Epoch    GPU_mem   box_loss   cls_loss   dfl_loss  Instances       Size\n"
     ]
    },
    {
     "name": "stderr",
     "output_type": "stream",
     "text": [
      "        1/3         0G      1.096      1.365      1.202        201        640: 100%|██████████| 8/8 [00:39<00:00,  4.91s/it]\n",
      "                 Class     Images  Instances      Box(P          R      mAP50  mAP50-95): 100%|██████████| 4/4 [00:15<00:00,  3.82s/it]"
     ]
    },
    {
     "name": "stdout",
     "output_type": "stream",
     "text": [
      "                   all        128        929      0.658      0.532      0.615      0.457\n"
     ]
    },
    {
     "name": "stderr",
     "output_type": "stream",
     "text": [
      "\n"
     ]
    },
    {
     "name": "stdout",
     "output_type": "stream",
     "text": [
      "\n",
      "      Epoch    GPU_mem   box_loss   cls_loss   dfl_loss  Instances       Size\n"
     ]
    },
    {
     "name": "stderr",
     "output_type": "stream",
     "text": [
      "        2/3         0G      1.216      1.443      1.268        136        640: 100%|██████████| 8/8 [00:38<00:00,  4.76s/it]\n",
      "                 Class     Images  Instances      Box(P          R      mAP50  mAP50-95): 100%|██████████| 4/4 [00:15<00:00,  3.82s/it]"
     ]
    },
    {
     "name": "stdout",
     "output_type": "stream",
     "text": [
      "                   all        128        929      0.672      0.542      0.628      0.466\n"
     ]
    },
    {
     "name": "stderr",
     "output_type": "stream",
     "text": [
      "\n"
     ]
    },
    {
     "name": "stdout",
     "output_type": "stream",
     "text": [
      "\n",
      "      Epoch    GPU_mem   box_loss   cls_loss   dfl_loss  Instances       Size\n"
     ]
    },
    {
     "name": "stderr",
     "output_type": "stream",
     "text": [
      "        3/3         0G      1.193      1.342      1.243        206        640: 100%|██████████| 8/8 [00:36<00:00,  4.58s/it]\n",
      "                 Class     Images  Instances      Box(P          R      mAP50  mAP50-95): 100%|██████████| 4/4 [00:14<00:00,  3.73s/it]"
     ]
    },
    {
     "name": "stdout",
     "output_type": "stream",
     "text": [
      "                   all        128        929       0.69      0.532      0.631      0.468\n"
     ]
    },
    {
     "name": "stderr",
     "output_type": "stream",
     "text": [
      "\n"
     ]
    },
    {
     "name": "stdout",
     "output_type": "stream",
     "text": [
      "\n",
      "3 epochs completed in 0.045 hours.\n",
      "Optimizer stripped from runs\\detect\\train\\weights\\last.pt, 6.5MB\n",
      "Optimizer stripped from runs\\detect\\train\\weights\\best.pt, 6.5MB\n",
      "\n",
      "Validating runs\\detect\\train\\weights\\best.pt...\n",
      "Ultralytics YOLOv8.0.227 🚀 Python-3.10.13 torch-2.1.2+cpu CPU (Intel Core(TM) i7-9700 3.00GHz)\n",
      "Model summary (fused): 168 layers, 3151904 parameters, 0 gradients, 8.7 GFLOPs\n"
     ]
    },
    {
     "name": "stderr",
     "output_type": "stream",
     "text": [
      "                 Class     Images  Instances      Box(P          R      mAP50  mAP50-95): 100%|██████████| 4/4 [00:10<00:00,  2.55s/it]\n"
     ]
    },
    {
     "name": "stdout",
     "output_type": "stream",
     "text": [
      "                   all        128        929      0.691      0.531      0.631      0.468\n",
      "                person        128        254      0.818      0.654      0.764      0.537\n",
      "               bicycle        128          6      0.663       0.33      0.331       0.26\n",
      "                   car        128         46      0.868      0.217      0.279      0.174\n",
      "            motorcycle        128          5      0.678      0.846      0.938      0.743\n",
      "              airplane        128          6      0.817      0.752      0.927      0.687\n",
      "                   bus        128          7      0.754      0.714      0.728      0.671\n",
      "                 train        128          3      0.565      0.667       0.83      0.681\n",
      "                 truck        128         12          1      0.326      0.522      0.328\n",
      "                  boat        128          6      0.299      0.167       0.36      0.233\n",
      "         traffic light        128         14      0.738      0.204      0.201      0.138\n",
      "             stop sign        128          2          1      0.971      0.995      0.707\n",
      "                 bench        128          9      0.815      0.494      0.633      0.382\n",
      "                  bird        128         16      0.912      0.625      0.894      0.556\n",
      "                   cat        128          4      0.876          1      0.995      0.791\n",
      "                   dog        128          9      0.658      0.889      0.871      0.652\n",
      "                 horse        128          2      0.571          1      0.995      0.518\n",
      "              elephant        128         17      0.848      0.824      0.918      0.674\n",
      "                  bear        128          1      0.624          1      0.995      0.895\n",
      "                 zebra        128          4      0.865          1      0.995      0.965\n",
      "               giraffe        128          9      0.898       0.98      0.973      0.713\n",
      "              backpack        128          6      0.648      0.333      0.379       0.22\n",
      "              umbrella        128         18      0.814        0.5      0.669      0.465\n",
      "               handbag        128         19          1          0      0.207      0.126\n",
      "                   tie        128          7       0.83        0.7      0.677      0.496\n",
      "              suitcase        128          4      0.609      0.783      0.828      0.592\n",
      "               frisbee        128          5       0.63        0.8       0.76      0.664\n",
      "                  skis        128          1      0.745          1      0.995      0.497\n",
      "             snowboard        128          7       0.75      0.714      0.755      0.492\n",
      "           sports ball        128          6      0.689      0.377      0.502      0.274\n",
      "                  kite        128         10      0.805      0.415      0.588      0.203\n",
      "          baseball bat        128          4       0.45       0.25      0.378      0.187\n",
      "        baseball glove        128          7      0.679      0.429      0.429      0.294\n",
      "            skateboard        128          5       0.81        0.6      0.599      0.446\n",
      "         tennis racket        128          7      0.696      0.335      0.502      0.365\n",
      "                bottle        128         18      0.508      0.344      0.366       0.22\n",
      "            wine glass        128         16      0.796      0.488       0.61      0.363\n",
      "                   cup        128         36      0.651       0.26      0.402      0.289\n",
      "                  fork        128          6      0.609      0.167      0.294      0.205\n",
      "                 knife        128         16      0.745      0.549      0.629      0.362\n",
      "                 spoon        128         22      0.511      0.191      0.349      0.182\n",
      "                  bowl        128         28      0.693      0.679      0.641      0.528\n",
      "                banana        128          1          0          0      0.111     0.0369\n",
      "              sandwich        128          2      0.323        0.5      0.662      0.662\n",
      "                orange        128          4          1      0.335      0.995      0.666\n",
      "              broccoli        128         11      0.396      0.182      0.254      0.213\n",
      "                carrot        128         24      0.818      0.458      0.673      0.434\n",
      "               hot dog        128          2      0.634          1      0.828      0.795\n",
      "                 pizza        128          5      0.791          1      0.995      0.843\n",
      "                 donut        128         14       0.65          1      0.926       0.84\n",
      "                  cake        128          4      0.725          1      0.995       0.88\n",
      "                 chair        128         35      0.564      0.514      0.462       0.26\n",
      "                 couch        128          6      0.422      0.333      0.614      0.469\n",
      "          potted plant        128         14      0.817      0.643      0.722      0.498\n",
      "                   bed        128          3      0.794      0.667      0.775      0.676\n",
      "          dining table        128         13      0.512      0.615      0.514       0.41\n",
      "                toilet        128          2      0.644        0.5      0.745      0.721\n",
      "                    tv        128          2      0.543       0.63      0.828      0.762\n",
      "                laptop        128          3          1          0      0.665      0.522\n",
      "                 mouse        128          2          1          0     0.0443    0.00443\n",
      "                remote        128          8      0.874        0.5      0.578      0.502\n",
      "            cell phone        128          8          0          0     0.0582     0.0384\n",
      "             microwave        128          3        0.6      0.667       0.83      0.699\n",
      "                  oven        128          5      0.456        0.4      0.342      0.272\n",
      "                  sink        128          6      0.372      0.167      0.203      0.125\n",
      "          refrigerator        128          5      0.668        0.4       0.65      0.522\n",
      "                  book        128         29      0.619      0.113      0.355       0.18\n",
      "                 clock        128          9      0.778      0.781      0.891      0.721\n",
      "                  vase        128          2      0.411          1      0.828      0.795\n",
      "              scissors        128          1          1          0      0.249     0.0746\n",
      "            teddy bear        128         21      0.939      0.333      0.635      0.429\n",
      "            toothbrush        128          5      0.747        0.4      0.672      0.424\n",
      "Speed: 1.6ms preprocess, 67.0ms inference, 0.0ms loss, 2.0ms postprocess per image\n",
      "Results saved to \u001b[1mruns\\detect\\train\u001b[0m\n",
      "Ultralytics YOLOv8.0.227 🚀 Python-3.10.13 torch-2.1.2+cpu CPU (Intel Core(TM) i7-9700 3.00GHz)\n",
      "Model summary (fused): 168 layers, 3151904 parameters, 0 gradients, 8.7 GFLOPs\n"
     ]
    },
    {
     "name": "stderr",
     "output_type": "stream",
     "text": [
      "\u001b[34m\u001b[1mval: \u001b[0mScanning C:\\Users\\mk\\github\\YOLOv8_Football_Detection-\\datasets\\coco128\\labels\\train2017.cache... 126 images, 2 backgrounds, 0 corrupt: 100%|██████████| 128/128 [00:00<?, ?it/s]\n",
      "                 Class     Images  Instances      Box(P          R      mAP50  mAP50-95): 100%|██████████| 8/8 [00:09<00:00,  1.17s/it]\n"
     ]
    },
    {
     "name": "stdout",
     "output_type": "stream",
     "text": [
      "                   all        128        929      0.677      0.547      0.626      0.463\n",
      "                person        128        254      0.805      0.665      0.766      0.539\n",
      "               bicycle        128          6      0.499      0.333      0.328      0.258\n",
      "                   car        128         46      0.816      0.217      0.279      0.174\n",
      "            motorcycle        128          5      0.684      0.874      0.938      0.743\n",
      "              airplane        128          6       0.82      0.767      0.927      0.687\n",
      "                   bus        128          7       0.74      0.714      0.728      0.671\n",
      "                 train        128          3      0.554      0.667       0.83      0.681\n",
      "                 truck        128         12          1      0.368      0.496      0.286\n",
      "                  boat        128          6      0.238      0.167      0.327      0.205\n",
      "         traffic light        128         14      0.738      0.204      0.201      0.138\n",
      "             stop sign        128          2          1      0.989      0.995      0.708\n",
      "                 bench        128          9      0.825      0.527      0.632      0.382\n",
      "                  bird        128         16       0.85      0.708      0.884      0.549\n",
      "                   cat        128          4      0.867          1      0.995      0.791\n",
      "                   dog        128          9      0.649      0.889      0.871      0.652\n",
      "                 horse        128          2       0.51          1      0.995      0.518\n",
      "              elephant        128         17      0.824      0.829      0.918      0.674\n",
      "                  bear        128          1      0.609          1      0.995      0.895\n",
      "                 zebra        128          4       0.86          1      0.995      0.965\n",
      "               giraffe        128          9      0.807      0.935      0.951      0.753\n",
      "              backpack        128          6      0.629      0.333      0.379      0.231\n",
      "              umbrella        128         18      0.697        0.5      0.664      0.463\n",
      "               handbag        128         19          1     0.0682      0.206      0.126\n",
      "                   tie        128          7      0.827      0.714      0.677      0.495\n",
      "              suitcase        128          4      0.663          1      0.828      0.592\n",
      "               frisbee        128          5      0.604        0.8      0.759      0.664\n",
      "                  skis        128          1      0.626          1      0.995      0.497\n",
      "             snowboard        128          7      0.727      0.714      0.755      0.491\n",
      "           sports ball        128          6      0.698      0.396      0.502      0.274\n",
      "                  kite        128         10      0.824      0.472      0.589      0.204\n",
      "          baseball bat        128          4      0.526       0.25      0.353      0.199\n",
      "        baseball glove        128          7      0.641      0.429      0.429      0.316\n",
      "            skateboard        128          5      0.864        0.6      0.599       0.44\n",
      "         tennis racket        128          7      0.709      0.358      0.502      0.337\n",
      "                bottle        128         18      0.524      0.369      0.368      0.217\n",
      "            wine glass        128         16      0.775      0.432      0.569      0.354\n",
      "                   cup        128         36       0.67      0.278      0.419      0.302\n",
      "                  fork        128          6      0.584      0.167      0.237      0.183\n",
      "                 knife        128         16       0.65      0.562      0.607      0.353\n",
      "                 spoon        128         22      0.595      0.202       0.35      0.197\n",
      "                  bowl        128         28      0.681      0.687      0.671      0.518\n",
      "                banana        128          1          0          0     0.0829     0.0344\n",
      "              sandwich        128          2      0.323        0.5      0.308      0.308\n",
      "                orange        128          4          1      0.371      0.995      0.666\n",
      "              broccoli        128         11      0.358      0.182      0.263      0.214\n",
      "                carrot        128         24      0.736       0.58      0.669      0.428\n",
      "               hot dog        128          2      0.658      0.975      0.828      0.828\n",
      "                 pizza        128          5      0.858          1      0.995      0.843\n",
      "                 donut        128         14      0.647          1      0.926      0.841\n",
      "                  cake        128          4      0.612          1      0.995       0.88\n",
      "                 chair        128         35       0.54      0.514      0.451      0.249\n",
      "                 couch        128          6      0.524        0.5      0.715      0.553\n",
      "          potted plant        128         14      0.784      0.643      0.722      0.498\n",
      "                   bed        128          3      0.764      0.667      0.863      0.655\n",
      "          dining table        128         13      0.465      0.538      0.486      0.387\n",
      "                toilet        128          2      0.629        0.5      0.745      0.721\n",
      "                    tv        128          2      0.563       0.69      0.828      0.762\n",
      "                laptop        128          3          1          0        0.6       0.48\n",
      "                 mouse        128          2          1          0     0.0683    0.00683\n",
      "                remote        128          8      0.858        0.5      0.613      0.523\n",
      "            cell phone        128          8          0          0     0.0576     0.0382\n",
      "             microwave        128          3      0.567      0.667       0.83      0.683\n",
      "                  oven        128          5      0.459        0.4      0.342      0.272\n",
      "                  sink        128          6      0.383      0.167      0.166      0.104\n",
      "          refrigerator        128          5      0.639        0.4      0.654      0.506\n",
      "                  book        128         29      0.638      0.123      0.379      0.203\n",
      "                 clock        128          9      0.782      0.798      0.892      0.722\n",
      "                  vase        128          2      0.368          1      0.828      0.795\n",
      "              scissors        128          1          1          0      0.249     0.0746\n",
      "            teddy bear        128         21       0.92      0.333      0.632      0.426\n",
      "            toothbrush        128          5      0.746        0.6      0.743      0.478\n",
      "Speed: 1.4ms preprocess, 60.7ms inference, 0.0ms loss, 2.0ms postprocess per image\n",
      "Results saved to \u001b[1mruns\\detect\\train2\u001b[0m\n",
      "\n",
      "Downloading https://ultralytics.com/images/bus.jpg to 'bus.jpg'...\n"
     ]
    },
    {
     "name": "stderr",
     "output_type": "stream",
     "text": [
      "100%|██████████| 476k/476k [00:00<00:00, 1.60MB/s]"
     ]
    },
    {
     "name": "stdout",
     "output_type": "stream",
     "text": [
      "image 1/1 c:\\Users\\mk\\github\\YOLOv8_Football_Detection-\\bus.jpg: 640x480 4 persons, 1 bus, 1 stop sign, 104.2ms\n"
     ]
    },
    {
     "name": "stderr",
     "output_type": "stream",
     "text": [
      "\n"
     ]
    },
    {
     "name": "stdout",
     "output_type": "stream",
     "text": [
      "Speed: 2.2ms preprocess, 104.2ms inference, 1.1ms postprocess per image at shape (1, 3, 640, 480)\n",
      "Ultralytics YOLOv8.0.227 🚀 Python-3.10.13 torch-2.1.2+cpu CPU (Intel Core(TM) i7-9700 3.00GHz)\n",
      "\n",
      "\u001b[34m\u001b[1mPyTorch:\u001b[0m starting from 'runs\\detect\\train\\weights\\best.pt' with input shape (1, 3, 640, 640) BCHW and output shape(s) (1, 84, 8400) (6.2 MB)\n",
      "\u001b[31m\u001b[1mrequirements:\u001b[0m Ultralytics requirement ['onnx>=1.12.0'] not found, attempting AutoUpdate...\n",
      "Collecting onnx>=1.12.0\n",
      "  Downloading onnx-1.15.0-cp310-cp310-win_amd64.whl.metadata (15 kB)\n",
      "Requirement already satisfied: numpy in c:\\users\\mk\\.conda\\envs\\yolo\\lib\\site-packages (from onnx>=1.12.0) (1.26.2)\n",
      "Collecting protobuf>=3.20.2 (from onnx>=1.12.0)\n",
      "  Downloading protobuf-4.25.1-cp310-abi3-win_amd64.whl.metadata (541 bytes)\n",
      "Downloading onnx-1.15.0-cp310-cp310-win_amd64.whl (14.3 MB)\n",
      "   ---------------------------------------- 14.3/14.3 MB 4.0 MB/s eta 0:00:008\n",
      "Downloading protobuf-4.25.1-cp310-abi3-win_amd64.whl (413 kB)\n",
      "   ---------------------------------------- 413.4/413.4 kB 2.6 MB/s eta 0:00:00\n",
      "Installing collected packages: protobuf, onnx\n",
      "Successfully installed onnx-1.15.0 protobuf-4.25.1\n",
      "\n",
      "\u001b[31m\u001b[1mrequirements:\u001b[0m AutoUpdate success ✅ 13.4s, installed 1 package: ['onnx>=1.12.0']\n",
      "\u001b[31m\u001b[1mrequirements:\u001b[0m ⚠️ \u001b[1mRestart runtime or rerun command for updates to take effect\u001b[0m\n",
      "\n",
      "\n",
      "\u001b[34m\u001b[1mONNX:\u001b[0m starting export with onnx 1.15.0 opset 17...\n",
      "\u001b[34m\u001b[1mONNX:\u001b[0m export success ✅ 14.3s, saved as 'runs\\detect\\train\\weights\\best.onnx' (12.2 MB)\n",
      "\n",
      "Export complete (15.9s)\n",
      "Results saved to \u001b[1mC:\\Users\\mk\\github\\YOLOv8_Football_Detection-\\runs\\detect\\train\\weights\u001b[0m\n",
      "Predict:         yolo predict task=detect model=runs\\detect\\train\\weights\\best.onnx imgsz=640  \n",
      "Validate:        yolo val task=detect model=runs\\detect\\train\\weights\\best.onnx imgsz=640 data=C:\\Users\\mk\\.conda\\envs\\yolo\\Lib\\site-packages\\ultralytics\\cfg\\datasets\\coco128.yaml  \n",
      "Visualize:       https://netron.app\n"
     ]
    }
   ],
   "source": [
    "from ultralytics import YOLO\n",
    "\n",
    "# Create a new YOLO model from scratch\n",
    "model = YOLO('yolov8n.yaml')\n",
    "\n",
    "# Load a pretrained YOLO model (recommended for training)\n",
    "model = YOLO('yolov8n.pt')\n",
    "\n",
    "# Train the model using the 'coco128.yaml' dataset for 3 epochs\n",
    "results = model.train(data='coco128.yaml', epochs=3)\n",
    "\n",
    "# Evaluate the model's performance on the validation set\n",
    "results = model.val()\n",
    "\n",
    "# Perform object detection on an image using the model\n",
    "results = model('https://ultralytics.com/images/bus.jpg')\n",
    "\n",
    "# Export the model to ONNX format\n",
    "success = model.export(format='onnx')"
   ]
  },
  {
   "cell_type": "code",
   "execution_count": 3,
   "metadata": {},
   "outputs": [
    {
     "name": "stdout",
     "output_type": "stream",
     "text": [
      "\n",
      "                   from  n    params  module                                       arguments                     \n",
      "  0                  -1  1       464  ultralytics.nn.modules.conv.Conv             [3, 16, 3, 2]                 \n",
      "  1                  -1  1      4672  ultralytics.nn.modules.conv.Conv             [16, 32, 3, 2]                \n",
      "  2                  -1  1      7360  ultralytics.nn.modules.block.C2f             [32, 32, 1, True]             \n",
      "  3                  -1  1     18560  ultralytics.nn.modules.conv.Conv             [32, 64, 3, 2]                \n"
     ]
    },
    {
     "name": "stdout",
     "output_type": "stream",
     "text": [
      "  4                  -1  2     49664  ultralytics.nn.modules.block.C2f             [64, 64, 2, True]             \n",
      "  5                  -1  1     73984  ultralytics.nn.modules.conv.Conv             [64, 128, 3, 2]               \n",
      "  6                  -1  2    197632  ultralytics.nn.modules.block.C2f             [128, 128, 2, True]           \n",
      "  7                  -1  1    295424  ultralytics.nn.modules.conv.Conv             [128, 256, 3, 2]              \n",
      "  8                  -1  1    460288  ultralytics.nn.modules.block.C2f             [256, 256, 1, True]           \n",
      "  9                  -1  1    164608  ultralytics.nn.modules.block.SPPF            [256, 256, 5]                 \n",
      " 10                  -1  1         0  torch.nn.modules.upsampling.Upsample         [None, 2, 'nearest']          \n",
      " 11             [-1, 6]  1         0  ultralytics.nn.modules.conv.Concat           [1]                           \n",
      " 12                  -1  1    148224  ultralytics.nn.modules.block.C2f             [384, 128, 1]                 \n",
      " 13                  -1  1         0  torch.nn.modules.upsampling.Upsample         [None, 2, 'nearest']          \n",
      " 14             [-1, 4]  1         0  ultralytics.nn.modules.conv.Concat           [1]                           \n",
      " 15                  -1  1     37248  ultralytics.nn.modules.block.C2f             [192, 64, 1]                  \n",
      " 16                  -1  1     36992  ultralytics.nn.modules.conv.Conv             [64, 64, 3, 2]                \n",
      " 17            [-1, 12]  1         0  ultralytics.nn.modules.conv.Concat           [1]                           \n",
      " 18                  -1  1    123648  ultralytics.nn.modules.block.C2f             [192, 128, 1]                 \n",
      " 19                  -1  1    147712  ultralytics.nn.modules.conv.Conv             [128, 128, 3, 2]              \n",
      " 20             [-1, 9]  1         0  ultralytics.nn.modules.conv.Concat           [1]                           \n",
      " 21                  -1  1    493056  ultralytics.nn.modules.block.C2f             [384, 256, 1]                 \n",
      " 22        [15, 18, 21]  1    897664  ultralytics.nn.modules.head.Detect           [80, [64, 128, 256]]          \n",
      "YOLOv8n summary: 225 layers, 3157200 parameters, 3157184 gradients, 8.9 GFLOPs\n",
      "\n"
     ]
    }
   ],
   "source": [
    "from ultralytics import YOLO\n",
    "\n",
    "# Create a new YOLO model from scratch\n",
    "model = YOLO('yolov8n.yaml')\n",
    "\n",
    "# Load a pretrained YOLO model (recommended for training)\n",
    "model = YOLO('yolov8n.pt')\n",
    "\n"
   ]
  },
  {
   "cell_type": "code",
   "execution_count": 4,
   "metadata": {},
   "outputs": [
    {
     "name": "stdout",
     "output_type": "stream",
     "text": [
      "\n",
      "image 1/1 c:\\Users\\mk\\github\\YOLOv8_Football_Detection-\\datasets\\coco128\\images\\train2017\\000000000077.jpg: 480x640 5 persons, 3 skateboards, 62.8ms\n",
      "Speed: 2.1ms preprocess, 62.8ms inference, 1.0ms postprocess per image at shape (1, 3, 480, 640)\n"
     ]
    }
   ],
   "source": [
    "results = model('datasets\\\\coco128\\\\images\\\\train2017\\\\000000000077.jpg')"
   ]
  },
  {
   "cell_type": "code",
   "execution_count": 7,
   "metadata": {},
   "outputs": [
    {
     "data": {
      "text/plain": [
       "[ultralytics.engine.results.Results object with attributes:\n",
       " \n",
       " boxes: ultralytics.engine.results.Boxes object\n",
       " keypoints: None\n",
       " masks: None\n",
       " names: {0: 'person', 1: 'bicycle', 2: 'car', 3: 'motorcycle', 4: 'airplane', 5: 'bus', 6: 'train', 7: 'truck', 8: 'boat', 9: 'traffic light', 10: 'fire hydrant', 11: 'stop sign', 12: 'parking meter', 13: 'bench', 14: 'bird', 15: 'cat', 16: 'dog', 17: 'horse', 18: 'sheep', 19: 'cow', 20: 'elephant', 21: 'bear', 22: 'zebra', 23: 'giraffe', 24: 'backpack', 25: 'umbrella', 26: 'handbag', 27: 'tie', 28: 'suitcase', 29: 'frisbee', 30: 'skis', 31: 'snowboard', 32: 'sports ball', 33: 'kite', 34: 'baseball bat', 35: 'baseball glove', 36: 'skateboard', 37: 'surfboard', 38: 'tennis racket', 39: 'bottle', 40: 'wine glass', 41: 'cup', 42: 'fork', 43: 'knife', 44: 'spoon', 45: 'bowl', 46: 'banana', 47: 'apple', 48: 'sandwich', 49: 'orange', 50: 'broccoli', 51: 'carrot', 52: 'hot dog', 53: 'pizza', 54: 'donut', 55: 'cake', 56: 'chair', 57: 'couch', 58: 'potted plant', 59: 'bed', 60: 'dining table', 61: 'toilet', 62: 'tv', 63: 'laptop', 64: 'mouse', 65: 'remote', 66: 'keyboard', 67: 'cell phone', 68: 'microwave', 69: 'oven', 70: 'toaster', 71: 'sink', 72: 'refrigerator', 73: 'book', 74: 'clock', 75: 'vase', 76: 'scissors', 77: 'teddy bear', 78: 'hair drier', 79: 'toothbrush'}\n",
       " orig_img: array([[[243, 221, 179],\n",
       "         [243, 221, 179],\n",
       "         [243, 221, 179],\n",
       "         ...,\n",
       "         [ 39, 107, 100],\n",
       "         [113, 177, 172],\n",
       "         [131, 192, 188]],\n",
       " \n",
       "        [[243, 221, 179],\n",
       "         [243, 221, 179],\n",
       "         [243, 221, 179],\n",
       "         ...,\n",
       "         [ 41, 111, 104],\n",
       "         [ 63, 130, 123],\n",
       "         [125, 192, 185]],\n",
       " \n",
       "        [[242, 220, 178],\n",
       "         [242, 220, 178],\n",
       "         [243, 221, 179],\n",
       "         ...,\n",
       "         [  8,  86,  75],\n",
       "         [ 23,  96,  86],\n",
       "         [  0,  55,  45]],\n",
       " \n",
       "        ...,\n",
       " \n",
       "        [[210, 222, 228],\n",
       "         [207, 219, 225],\n",
       "         [205, 217, 221],\n",
       "         ...,\n",
       "         [207, 219, 223],\n",
       "         [207, 219, 223],\n",
       "         [207, 219, 223]],\n",
       " \n",
       "        [[210, 222, 228],\n",
       "         [205, 217, 223],\n",
       "         [202, 214, 218],\n",
       "         ...,\n",
       "         [205, 217, 221],\n",
       "         [206, 218, 222],\n",
       "         [206, 218, 222]],\n",
       " \n",
       "        [[203, 215, 219],\n",
       "         [199, 211, 215],\n",
       "         [198, 210, 214],\n",
       "         ...,\n",
       "         [205, 217, 221],\n",
       "         [205, 217, 221],\n",
       "         [206, 218, 222]]], dtype=uint8)\n",
       " orig_shape: (375, 500)\n",
       " path: 'c:\\\\Users\\\\mk\\\\github\\\\YOLOv8_Football_Detection-\\\\datasets\\\\coco128\\\\images\\\\train2017\\\\000000000077.jpg'\n",
       " probs: None\n",
       " save_dir: None\n",
       " speed: {'preprocess': 2.105712890625, 'inference': 62.84976005554199, 'postprocess': 0.9973049163818359}]"
      ]
     },
     "execution_count": 7,
     "metadata": {},
     "output_type": "execute_result"
    }
   ],
   "source": [
    "results"
   ]
  },
  {
   "cell_type": "code",
   "execution_count": 30,
   "metadata": {},
   "outputs": [
    {
     "name": "stdout",
     "output_type": "stream",
     "text": [
      "person [0.04765673354268074, 0.44226741790771484, 0.24644862115383148, 0.8943026661872864]\n",
      "person [0.6398401856422424, 0.14556419849395752, 0.8203490376472473, 0.3996225595474243]\n",
      "person [0.42947912216186523, 0.14620833098888397, 0.6388537883758545, 0.48162537813186646]\n",
      "skateboard [0.08856961876153946, 0.8457379341125488, 0.19135859608650208, 0.9225019812583923]\n",
      "person [0.5725736618041992, 0.2724030017852783, 0.6136508584022522, 0.37567558884620667]\n",
      "person [0.5365954637527466, 0.15499863028526306, 0.6378873586654663, 0.3773983418941498]\n",
      "skateboard [0.0887005403637886, 0.8617282509803772, 0.17144037783145905, 0.9162625074386597]\n",
      "skateboard [0.06065387651324272, 0.3455781638622284, 0.1678175926208496, 0.5008489489555359]\n"
     ]
    }
   ],
   "source": [
    "# View results\n",
    "for r in results:\n",
    "    #print(r.boxes.xyxyn.tolist())\n",
    "    listaWykrytychKlas = r.boxes.cls.tolist()\n",
    "    for x, elementListy in enumerate(listaWykrytychKlas):\n",
    "        idKlasy = int(elementListy)\n",
    "        print(r.names[idKlasy], r.boxes.xyxyn.tolist()[x])"
   ]
  },
  {
   "cell_type": "code",
   "execution_count": 35,
   "metadata": {},
   "outputs": [
    {
     "name": "stdout",
     "output_type": "stream",
     "text": [
      "[0.04765673354268074, 0.44226741790771484, 0.24644862115383148, 0.8943026661872864]\n",
      "[0.6398401856422424, 0.14556419849395752, 0.8203490376472473, 0.3996225595474243]\n",
      "[0.42947912216186523, 0.14620833098888397, 0.6388537883758545, 0.48162537813186646]\n",
      "[0.08856961876153946, 0.8457379341125488, 0.19135859608650208, 0.9225019812583923]\n",
      "[0.5725736618041992, 0.2724030017852783, 0.6136508584022522, 0.37567558884620667]\n",
      "[0.5365954637527466, 0.15499863028526306, 0.6378873586654663, 0.3773983418941498]\n",
      "[0.0887005403637886, 0.8617282509803772, 0.17144037783145905, 0.9162625074386597]\n",
      "[0.06065387651324272, 0.3455781638622284, 0.1678175926208496, 0.5008489489555359]\n"
     ]
    }
   ],
   "source": [
    "listaBox = r.boxes.xyxyn.tolist()\n",
    "#print(listaBox)\n",
    "for i in listaBox:\n",
    "    print(i)"
   ]
  },
  {
   "cell_type": "code",
   "execution_count": 37,
   "metadata": {},
   "outputs": [
    {
     "data": {
      "text/plain": [
       "[0.6398401856422424,\n",
       " 0.14556419849395752,\n",
       " 0.8203490376472473,\n",
       " 0.3996225595474243]"
      ]
     },
     "execution_count": 37,
     "metadata": {},
     "output_type": "execute_result"
    }
   ],
   "source": [
    "listaBox[1]"
   ]
  }
 ],
 "metadata": {
  "kernelspec": {
   "display_name": "yolo",
   "language": "python",
   "name": "python3"
  },
  "language_info": {
   "codemirror_mode": {
    "name": "ipython",
    "version": 3
   },
   "file_extension": ".py",
   "mimetype": "text/x-python",
   "name": "python",
   "nbconvert_exporter": "python",
   "pygments_lexer": "ipython3",
   "version": "3.10.13"
  }
 },
 "nbformat": 4,
 "nbformat_minor": 2
}
